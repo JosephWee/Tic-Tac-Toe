{
 "cells": [
  {
   "cell_type": "code",
   "execution_count": 1,
   "id": "30d4530b",
   "metadata": {},
   "outputs": [
    {
     "name": "stdout",
     "output_type": "stream",
     "text": [
      "           InstanceId                                        Description  \\\n",
      "0  638193854061224486  UnitTest 2P Valid Test - P1: ComputerPlayerV1 ...   \n",
      "1  638193854061224487  UnitTest 2P Valid Test - P1: ComputerPlayerV1 ...   \n",
      "2  638193854061224488  UnitTest 2P Valid Test - P1: ComputerPlayerV1 ...   \n",
      "3  638193854061224489  UnitTest 2P Valid Test - P1: ComputerPlayerV1 ...   \n",
      "4  638193854061224490  UnitTest 2P Valid Test - P1: ComputerPlayerV1 ...   \n",
      "\n",
      "   GridSize  Status                    CreatedDate  \\\n",
      "0         3       2  2023-05-11 15:03:27.651104+08   \n",
      "1         3       2   2023-05-11 15:03:28.85201+08   \n",
      "2         3       2  2023-05-11 15:03:29.526664+08   \n",
      "3         3       1  2023-05-11 15:03:30.213718+08   \n",
      "4         3       2  2023-05-11 15:03:31.064667+08   \n",
      "\n",
      "                   CompletedDate  \n",
      "0  2023-05-11 15:03:28.673255+08  \n",
      "1  2023-05-11 15:03:29.343209+08  \n",
      "2  2023-05-11 15:03:30.051265+08  \n",
      "3  2023-05-11 15:03:30.905169+08  \n",
      "4  2023-05-11 15:03:31.374306+08  \n",
      "        Id                    CreatedDate          InstanceId  MoveNumber  \\\n",
      "0  4142737   2023-05-10 17:22:08.37419+08  638193073280838823           1   \n",
      "1  4142738   2023-05-10 17:22:08.37419+08  638193073280838823           1   \n",
      "2  4142739  2023-05-10 17:22:08.374191+08  638193073280838823           1   \n",
      "3  4142740  2023-05-10 17:22:08.374191+08  638193073280838823           1   \n",
      "4  4142741  2023-05-10 17:22:08.374191+08  638193073280838823           1   \n",
      "\n",
      "   CellIndex  CellContent  \n",
      "0          0            0  \n",
      "1          1            0  \n",
      "2          2            0  \n",
      "3          3            0  \n",
      "4          4            0  \n"
     ]
    }
   ],
   "source": [
    "import numpy as np\n",
    "import pandas as pd\n",
    "\n",
    "dfGames = pd.read_csv('TicTacToeGames-2023-05-12-0254.csv')\n",
    "dfData = pd.read_csv('TicTacToeData-2023-05-12-0254.csv')\n",
    "\n",
    "print(dfGames.head())\n",
    "print(dfData.head())"
   ]
  },
  {
   "cell_type": "code",
   "execution_count": 2,
   "id": "15db147a",
   "metadata": {},
   "outputs": [
    {
     "name": "stdout",
     "output_type": "stream",
     "text": [
      "<class 'pandas.core.frame.DataFrame'>\n",
      "                                          Description  Status  Count\n",
      "0           UnitTest 1P Valid Test - ComputerPlayerV1       1   1202\n",
      "1           UnitTest 1P Valid Test - ComputerPlayerV1       2    540\n",
      "2           UnitTest 1P Valid Test - ComputerPlayerV1       3    258\n",
      "3           UnitTest 1P Valid Test - ComputerPlayerV2       1    186\n",
      "4           UnitTest 1P Valid Test - ComputerPlayerV2       2   1412\n",
      "5           UnitTest 1P Valid Test - ComputerPlayerV2       3    402\n",
      "6           UnitTest 1P Valid Test - ComputerPlayerV3       1    188\n",
      "7           UnitTest 1P Valid Test - ComputerPlayerV3       2   1404\n",
      "8           UnitTest 1P Valid Test - ComputerPlayerV3       3    408\n",
      "9   UnitTest 2P Valid Test - P1: ComputerPlayerV1 ...       1   2716\n",
      "10  UnitTest 2P Valid Test - P1: ComputerPlayerV1 ...       2   1285\n",
      "11  UnitTest 2P Valid Test - P1: ComputerPlayerV1 ...       3    606\n",
      "12  UnitTest 2P Valid Test - P1: ComputerPlayerV1 ...       1    370\n",
      "13  UnitTest 2P Valid Test - P1: ComputerPlayerV1 ...       2   3190\n",
      "14  UnitTest 2P Valid Test - P1: ComputerPlayerV1 ...       3    845\n",
      "RangeIndex(start=0, stop=15, step=1)\n",
      "Index(['Description', 'Status', 'Count'], dtype='object')\n",
      "(15, 3)\n",
      "\n",
      "['UnitTest 1P Valid Test - ComputerPlayerV1', 'UnitTest 1P Valid Test - ComputerPlayerV2', 'UnitTest 1P Valid Test - ComputerPlayerV3', 'UnitTest 2P Valid Test - P1: ComputerPlayerV1 P2: ComputerPlayerV1', 'UnitTest 2P Valid Test - P1: ComputerPlayerV1 P2: ComputerPlayerV2']\n"
     ]
    }
   ],
   "source": [
    "grpGames = pd.DataFrame(dfGames.groupby(by=['Description','Status'])['InstanceId'].count())\n",
    "grpGames.reset_index(inplace=True)\n",
    "grpGames.rename(columns={\"InstanceId\": \"Count\"}, inplace=True)\n",
    "print(type(grpGames))\n",
    "print(grpGames)\n",
    "print(grpGames.index)\n",
    "print(grpGames.columns)\n",
    "print(grpGames.shape)\n",
    "#print()\n",
    "#print(grpGames[\"Status\"])\n",
    "print()\n",
    "print(list(grpGames[\"Description\"].unique()))"
   ]
  },
  {
   "cell_type": "code",
   "execution_count": 3,
   "id": "60544084",
   "metadata": {},
   "outputs": [
    {
     "name": "stdout",
     "output_type": "stream",
     "text": [
      "                                          Description  Status  Count\n",
      "9   UnitTest 2P Valid Test - P1: ComputerPlayerV1 ...       1   2716\n",
      "10  UnitTest 2P Valid Test - P1: ComputerPlayerV1 ...       2   1285\n",
      "11  UnitTest 2P Valid Test - P1: ComputerPlayerV1 ...       3    606\n",
      "12  UnitTest 2P Valid Test - P1: ComputerPlayerV1 ...       1    370\n",
      "13  UnitTest 2P Valid Test - P1: ComputerPlayerV1 ...       2   3190\n",
      "14  UnitTest 2P Valid Test - P1: ComputerPlayerV1 ...       3    845\n",
      "\n",
      "\n",
      "UnitTest 2P Valid Test - P1: ComputerPlayerV2 P2: ComputerPlayerV1:1:0\n",
      "UnitTest 2P Valid Test - P1: ComputerPlayerV2 P2: ComputerPlayerV1:2:0\n",
      "UnitTest 2P Valid Test - P1: ComputerPlayerV2 P2: ComputerPlayerV1:3:0\n",
      "UnitTest 2P Valid Test - P1: ComputerPlayerV2 P2: ComputerPlayerV2:1:0\n",
      "UnitTest 2P Valid Test - P1: ComputerPlayerV2 P2: ComputerPlayerV2:2:0\n",
      "UnitTest 2P Valid Test - P1: ComputerPlayerV2 P2: ComputerPlayerV2:3:0\n",
      "                                          Description  Status  Count\n",
      "0   UnitTest 2P Valid Test - P1: ComputerPlayerV1 ...       1   2716\n",
      "1   UnitTest 2P Valid Test - P1: ComputerPlayerV1 ...       2   1285\n",
      "2   UnitTest 2P Valid Test - P1: ComputerPlayerV1 ...       3    606\n",
      "3   UnitTest 2P Valid Test - P1: ComputerPlayerV1 ...       1    370\n",
      "4   UnitTest 2P Valid Test - P1: ComputerPlayerV1 ...       2   3190\n",
      "5   UnitTest 2P Valid Test - P1: ComputerPlayerV1 ...       3    845\n",
      "6   UnitTest 2P Valid Test - P1: ComputerPlayerV2 ...       1      0\n",
      "7   UnitTest 2P Valid Test - P1: ComputerPlayerV2 ...       2      0\n",
      "8   UnitTest 2P Valid Test - P1: ComputerPlayerV2 ...       3      0\n",
      "9   UnitTest 2P Valid Test - P1: ComputerPlayerV2 ...       1      0\n",
      "10  UnitTest 2P Valid Test - P1: ComputerPlayerV2 ...       2      0\n",
      "11  UnitTest 2P Valid Test - P1: ComputerPlayerV2 ...       3      0\n"
     ]
    }
   ],
   "source": [
    "gameSetups = []\n",
    "#gameSetups.append('UnitTest 1P Valid Test - ComputerPlayerV1')\n",
    "#gameSetups.append('UnitTest 1P Valid Test - ComputerPlayerV2')\n",
    "#gameSetups.append('UnitTest 1P Valid Test - ComputerPlayerV3')\n",
    "gameSetups.append('UnitTest 2P Valid Test - P1: ComputerPlayerV1 P2: ComputerPlayerV1')\n",
    "gameSetups.append('UnitTest 2P Valid Test - P1: ComputerPlayerV1 P2: ComputerPlayerV2')\n",
    "gameSetups.append('UnitTest 2P Valid Test - P1: ComputerPlayerV2 P2: ComputerPlayerV1')\n",
    "gameSetups.append('UnitTest 2P Valid Test - P1: ComputerPlayerV2 P2: ComputerPlayerV2')\n",
    "#gameSetups.append('UnitTest 2P Valid Test - P1: ComputerPlayerV2 P2: ComputerPlayerV3')\n",
    "#gameSetups.append('UnitTest 2P Valid Test - P1: ComputerPlayerV3 P2: ComputerPlayerV2')\n",
    "#gameSetups.append('UnitTest 2P Valid Test - P1: ComputerPlayerV3 P2: ComputerPlayerV3')\n",
    "#gameSetups.append('Web Api - ComputerPlayerV3')\n",
    "\n",
    "dfGames1 = grpGames[grpGames[\"Description\"].apply(lambda d: d in gameSetups)]\n",
    "print(dfGames1)\n",
    "print()\n",
    "print()\n",
    "\n",
    "newGameSetup = []\n",
    "newStatus = []\n",
    "newCount = []\n",
    "for i in range(len(gameSetups)):\n",
    "    gameSetup = gameSetups[i]\n",
    "    for status in range(1,4):\n",
    "        dfResult = dfGames1[(dfGames1[\"Description\"].str.fullmatch(gameSetup)) & (dfGames1[\"Status\"] == status)]\n",
    "        if dfResult.shape[0] == 0:\n",
    "            print(f\"{gameSetup}:{status}:{0}\")\n",
    "            newGameSetup.append(gameSetup)\n",
    "            newStatus.append(status)\n",
    "            newCount.append(0)\n",
    "\n",
    "#print(newGameSetup)\n",
    "#print(newStatus)\n",
    "#print(newCount)\n",
    "\n",
    "newRows = pd.DataFrame(data={\"Description\": newGameSetup, \"Status\": newStatus, \"Count\": newCount}, index=range(len(newGameSetup)))\n",
    "#print(newRows)\n",
    "dfGames1 = pd.concat([dfGames1, newRows])\n",
    "dfGames1.sort_values(by=[\"Description\",\"Status\"], inplace=True)\n",
    "dfGames1.reset_index(drop=True,inplace=True)\n",
    "print(dfGames1)"
   ]
  },
  {
   "cell_type": "code",
   "execution_count": 4,
   "id": "10c6e979",
   "metadata": {},
   "outputs": [],
   "source": [
    "import matplotlib.pyplot as plt\n",
    "\n",
    "xpos = [1,2,3]\n",
    "for i in range(len(gameSetups)):\n",
    "    gameSetup = gameSetups[i]\n",
    "    dfColumnChart = dfGames1[dfGames1[\"Description\"].str.fullmatch(gameSetup)]\n",
    "    #print(dfColumnChart)\n",
    "    count = dfColumnChart[\"Count\"].values\n",
    "    countList = [count[0],count[2],count[1]]\n",
    "    plt.bar(x=xpos,height=countList)\n",
    "    plt.xticks(ticks=xpos,labels=[\"Player1\",\"Draw\",\"Player2\"])\n",
    "    plt.title(gameSetup)\n",
    "    plt.savefig('TicTacToeGameOutcomeByGameSetup' + gameSetup.replace(' ','_').replace('UnitTest_','') + '20230512.png')\n",
    "    plt.close()\n",
    "    #plt.show()\n"
   ]
  },
  {
   "cell_type": "code",
   "execution_count": 5,
   "id": "9584464b",
   "metadata": {},
   "outputs": [
    {
     "name": "stdout",
     "output_type": "stream",
     "text": [
      "([1468, 1218, 1522, 1302, 1880, 1302, 1521, 1318, 1537], [1184, 1306, 1092, 1137, 830, 1178, 1083, 1105, 1067], [434, 562, 472, 647, 376, 606, 482, 663, 482])\n"
     ]
    }
   ],
   "source": [
    "def SumPlayerMoves(dfPlayerWinDataMaxMoves, dfPlayerWinData):\n",
    "\n",
    "    emptyCells = [0 for i in range(9)]\n",
    "    p1Cells = [0 for i in range(9)]\n",
    "    p2Cells = [0 for i in range(9)]\n",
    "    \n",
    "    for i in range(dfPlayerWinDataMaxMoves.shape[0]):\n",
    "        row = dfPlayerWinDataMaxMoves.iloc[i]\n",
    "        InstanceId = row[\"InstanceId\"]\n",
    "        MoveNumber = row[\"MoveNumber\"]\n",
    "        latestMove = dfPlayerWinData[(dfPlayerWinData[\"InstanceId\"].apply(lambda id: id == InstanceId)) & (dfPlayerWinData[\"MoveNumber\"].apply(lambda m: m == MoveNumber))]\n",
    "        #print(latestMove)\n",
    "        for c in range(latestMove.shape[0]):\n",
    "            move = latestMove.iloc[c]\n",
    "            ci = move[\"CellIndex\"]\n",
    "            cc = move[\"CellContent\"]\n",
    "            if cc==0:\n",
    "                emptyCells[ci] += 1\n",
    "            elif cc==1:\n",
    "                p1Cells[ci] += 1\n",
    "            elif cc==2:\n",
    "                p2Cells[ci] += 1\n",
    "    return (p1Cells, p2Cells, emptyCells)\n",
    "\n",
    "dfWinGames = dfGames[dfGames[\"Description\"].isin(gameSetups)]\n",
    "\n",
    "dfP1WinGames = dfWinGames[dfWinGames[\"Status\"] == 1]\n",
    "gamesP1Won = dfP1WinGames[\"InstanceId\"].unique().tolist()\n",
    "dfP1WinData = dfData[dfData[\"InstanceId\"].isin(gamesP1Won)]\n",
    "dfP1WinDataMaxMoves = dfP1WinData.groupby(by=\"InstanceId\").max()\n",
    "dfP1WinDataMaxMoves.reset_index(inplace=True)\n",
    "\n",
    "p1Results = SumPlayerMoves(dfP1WinDataMaxMoves, dfP1WinData)\n",
    "print(p1Results)\n"
   ]
  },
  {
   "cell_type": "code",
   "execution_count": 6,
   "id": "9074e2ef",
   "metadata": {},
   "outputs": [
    {
     "name": "stdout",
     "output_type": "stream",
     "text": [
      "13068\n",
      "[11.2335476   9.3204775  11.64677074  9.96326905 14.38628711  9.96326905\n",
      " 11.63911846 10.08570554 11.76155494]\n"
     ]
    }
   ],
   "source": [
    "player1Moves = np.array(p1Results[0])\n",
    "totalPlayer1Moves = player1Moves.sum()\n",
    "print(totalPlayer1Moves)\n",
    "player1MovesPercentages = (player1Moves * 100)/totalPlayer1Moves\n",
    "print(player1MovesPercentages)"
   ]
  },
  {
   "cell_type": "code",
   "execution_count": 7,
   "id": "959233f4",
   "metadata": {},
   "outputs": [
    {
     "name": "stdout",
     "output_type": "stream",
     "text": [
      "([1063, 1254, 1576, 2031, 1467, 2250, 1800, 2189, 1906], [3100, 2549, 2265, 1034, 2128, 661, 1427, 992, 1380], [312, 672, 634, 1410, 880, 1564, 1248, 1294, 1189])\n"
     ]
    }
   ],
   "source": [
    "dfP2WinGames = dfWinGames[dfWinGames[\"Status\"] == 2]\n",
    "gamesP2Won = dfP2WinGames[\"InstanceId\"].unique().tolist()\n",
    "dfP2WinData = dfData[dfData[\"InstanceId\"].isin(gamesP2Won)]\n",
    "dfP2WinDataMaxMoves = dfP2WinData.groupby(by=\"InstanceId\").max()\n",
    "dfP2WinDataMaxMoves.reset_index(inplace=True)\n",
    "\n",
    "p2Results = SumPlayerMoves(dfP2WinDataMaxMoves, dfP2WinData)\n",
    "print(p2Results)\n"
   ]
  },
  {
   "cell_type": "code",
   "execution_count": 8,
   "id": "6e3882cb",
   "metadata": {},
   "outputs": [
    {
     "name": "stdout",
     "output_type": "stream",
     "text": [
      "15536\n",
      "[19.95365602 16.40705458 14.57904222  6.65550978 13.69721936  4.2546344\n",
      "  9.18511843  6.38516993  8.88259526]\n"
     ]
    }
   ],
   "source": [
    "player2Moves = np.array(p2Results[1])\n",
    "totalPlayer2Moves = player2Moves.sum()\n",
    "print(totalPlayer2Moves)\n",
    "player2MovesPercentages = (player2Moves * 100)/totalPlayer2Moves\n",
    "print(player2MovesPercentages)"
   ]
  },
  {
   "cell_type": "code",
   "execution_count": 9,
   "id": "00e775a8",
   "metadata": {},
   "outputs": [
    {
     "name": "stdout",
     "output_type": "stream",
     "text": [
      "[[11.23354759718396, 9.320477502295685, 11.646770737679828], [9.963269054178145, 14.38628711355984, 9.963269054178145], [11.639118457300276, 10.085705540250995, 11.761554943373126]]\n",
      "11.23\n",
      "9.96\n",
      "11.64\n",
      "9.32\n",
      "14.39\n",
      "10.09\n",
      "11.65\n",
      "9.96\n",
      "11.76\n",
      "[[19.953656024716786, 16.407054582904223, 14.579042224510813], [6.655509783728116, 13.697219361483008, 4.254634397528322], [9.1851184346035, 6.385169927909372, 8.88259526261586]]\n",
      "19.95\n",
      "6.66\n",
      "9.19\n",
      "16.41\n",
      "13.7\n",
      "6.39\n",
      "14.58\n",
      "4.25\n",
      "8.88\n",
      "[[15.593601810950373, 12.863766042599954, 13.11290648109532], [8.309389418953131, 14.041753237521423, 7.108951725853233], [10.412118445951888, 8.235437734080183, 10.322075102994493]]\n",
      "15.59\n",
      "8.31\n",
      "10.41\n",
      "12.86\n",
      "14.04\n",
      "8.24\n",
      "13.11\n",
      "7.11\n",
      "10.32\n"
     ]
    }
   ],
   "source": [
    "def annotatedHeatMap(data1d, title):\n",
    "    \n",
    "    data2d = []\n",
    "    for i in range(3):\n",
    "        r = i*3\n",
    "        data2d.append(list(data1d[r:r+3]))\n",
    "        \n",
    "    print(data2d)\n",
    "\n",
    "    fig, ax = plt.subplots()\n",
    "    \n",
    "    # Plot the heatmap\n",
    "    im = ax.imshow(data2d,cmap=\"copper\")\n",
    "    #cbar = ax.figure.colorbar(im, ax=ax, **cbar_kw)\n",
    "    cbar = ax.figure.colorbar(im, ax=ax)\n",
    "    \n",
    "    xticks = [i-1 for i in range(1,4)]\n",
    "    yticks = [i-1 for i in range(1,4)]\n",
    "    xlabels = [i for i in range(1,4)]\n",
    "    ylabels = [i for i in range(1,4)]\n",
    "    ax.set_xticks(xticks, labels=xlabels, fontsize=\"14\")\n",
    "    ax.set_yticks(yticks, labels=ylabels, fontsize=\"14\")\n",
    "    ax.set_ylabel(\"Row\", fontsize=\"14\")\n",
    "    ax.set_xlabel(\"Column\", fontsize=\"14\")\n",
    "    #ax.set_title(title, fontsize=\"20\")\n",
    "    \n",
    "    # Loop over data dimensions and create text annotations.\n",
    "    for r in range(3):\n",
    "        for c in range(3):\n",
    "            val = round(data2d[c][r],2)\n",
    "            print(val)\n",
    "            txt = ax.text(r, c, f'{val:0.2f}', ha=\"center\", va=\"center\", color=\"w\", fontsize=\"x-large\", fontweight=\"bold\")\n",
    "    \n",
    "    plt.savefig(title.replace(' ', '_').replace(':','') + '20230512.png')\n",
    "    plt.close()\n",
    "    \n",
    "annotatedHeatMap(player1MovesPercentages, \"P1 Wins: Cells occupancy by percentage\")\n",
    "annotatedHeatMap(player2MovesPercentages, \"P2 Wins: Cells occupancy by percentage\")\n",
    "\n",
    "winningPlayerMovesPercentages = (player1MovesPercentages + player2MovesPercentages) / 2\n",
    "annotatedHeatMap(winningPlayerMovesPercentages, \"Winner: Cells occupancy by percentage\")"
   ]
  },
  {
   "cell_type": "code",
   "execution_count": null,
   "id": "6823743d",
   "metadata": {},
   "outputs": [],
   "source": []
  }
 ],
 "metadata": {
  "kernelspec": {
   "display_name": "pycaret_full",
   "language": "python",
   "name": "pycaret_full"
  },
  "language_info": {
   "codemirror_mode": {
    "name": "ipython",
    "version": 3
   },
   "file_extension": ".py",
   "mimetype": "text/x-python",
   "name": "python",
   "nbconvert_exporter": "python",
   "pygments_lexer": "ipython3",
   "version": "3.8.12"
  }
 },
 "nbformat": 4,
 "nbformat_minor": 5
}
