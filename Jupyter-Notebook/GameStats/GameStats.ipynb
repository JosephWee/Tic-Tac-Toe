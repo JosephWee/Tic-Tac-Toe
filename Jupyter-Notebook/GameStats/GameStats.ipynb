{
 "cells": [
  {
   "cell_type": "code",
   "execution_count": 1,
   "id": "30d4530b",
   "metadata": {},
   "outputs": [
    {
     "name": "stdout",
     "output_type": "stream",
     "text": [
      "           InstanceId                                  Description  GridSize  \\\n",
      "0  638187012721617392    UnitTest 1P Valid Test - ComputerPlayerV1         3   \n",
      "1  638187012714313902  UnitTest 1P Invalid Test - ComputerPlayerV2         3   \n",
      "2  638187012716883367  UnitTest 1P Invalid Test - ComputerPlayerV3         3   \n",
      "3  638187012721617360    UnitTest 1P Valid Test - ComputerPlayerV1         3   \n",
      "4  638187012721617361    UnitTest 1P Valid Test - ComputerPlayerV1         3   \n",
      "\n",
      "   Status                    CreatedDate                  CompletedDate  \n",
      "0       1  2023-05-03 17:01:19.398628+08  2023-05-03 17:01:19.554476+08  \n",
      "1       2  2023-05-03 17:01:11.437358+08  2023-05-03 17:01:11.631112+08  \n",
      "2       2  2023-05-03 17:01:11.690444+08  2023-05-03 17:01:12.104686+08  \n",
      "3       1  2023-05-03 17:01:12.164396+08   2023-05-03 17:01:12.27824+08  \n",
      "4       3  2023-05-03 17:01:12.336441+08  2023-05-03 17:01:12.563214+08  \n",
      "      Id                    CreatedDate  InstanceId  MoveNumber  CellIndex  \\\n",
      "0  71011  2023-05-03 17:08:07.218047+08        1000           1          0   \n",
      "1  71012  2023-05-03 17:08:07.218244+08        1000           1          1   \n",
      "2  71013  2023-05-03 17:08:07.218244+08        1000           1          2   \n",
      "3  71014  2023-05-03 17:08:07.218244+08        1000           1          3   \n",
      "4  71015  2023-05-03 17:08:07.218244+08        1000           1          4   \n",
      "\n",
      "   CellContent  \n",
      "0            0  \n",
      "1            0  \n",
      "2            0  \n",
      "3            0  \n",
      "4            0  \n"
     ]
    }
   ],
   "source": [
    "import numpy as np\n",
    "import pandas as pd\n",
    "\n",
    "dfGames = pd.read_csv('TicTacToeGames20230509.csv')\n",
    "dfData = pd.read_csv('TicTacToeData20230509.csv')\n",
    "\n",
    "print(dfGames.head())\n",
    "print(dfData.head())"
   ]
  },
  {
   "cell_type": "code",
   "execution_count": 2,
   "id": "15db147a",
   "metadata": {},
   "outputs": [
    {
     "name": "stdout",
     "output_type": "stream",
     "text": [
      "<class 'pandas.core.frame.DataFrame'>\n",
      "                                          Description  Status  Count\n",
      "0         UnitTest 1P Invalid Test - ComputerPlayerV1       1      2\n",
      "1         UnitTest 1P Invalid Test - ComputerPlayerV1       2      3\n",
      "2         UnitTest 1P Invalid Test - ComputerPlayerV2       2      7\n",
      "3         UnitTest 1P Invalid Test - ComputerPlayerV3       1      1\n",
      "4         UnitTest 1P Invalid Test - ComputerPlayerV3       2      4\n",
      "5           UnitTest 1P Valid Test - ComputerPlayerV1       1   5669\n",
      "6           UnitTest 1P Valid Test - ComputerPlayerV1       2   2785\n",
      "7           UnitTest 1P Valid Test - ComputerPlayerV1       3   1246\n",
      "8           UnitTest 1P Valid Test - ComputerPlayerV2       1    791\n",
      "9           UnitTest 1P Valid Test - ComputerPlayerV2       2   6916\n",
      "10          UnitTest 1P Valid Test - ComputerPlayerV2       3   1923\n",
      "11          UnitTest 1P Valid Test - ComputerPlayerV3       1    635\n",
      "12          UnitTest 1P Valid Test - ComputerPlayerV3       2   6968\n",
      "13          UnitTest 1P Valid Test - ComputerPlayerV3       3   1897\n",
      "14  UnitTest 2P Valid Test - P1: ComputerPlayerV1 ...       1    388\n",
      "15  UnitTest 2P Valid Test - P1: ComputerPlayerV1 ...       2    212\n",
      "16  UnitTest 2P Valid Test - P1: ComputerPlayerV1 ...       3    100\n",
      "17  UnitTest 2P Valid Test - P1: ComputerPlayerV1 ...       1     61\n",
      "18  UnitTest 2P Valid Test - P1: ComputerPlayerV1 ...       2    484\n",
      "19  UnitTest 2P Valid Test - P1: ComputerPlayerV1 ...       3    155\n",
      "20  UnitTest 2P Valid Test - P1: ComputerPlayerV2 ...       1    633\n",
      "21  UnitTest 2P Valid Test - P1: ComputerPlayerV2 ...       2     20\n",
      "22  UnitTest 2P Valid Test - P1: ComputerPlayerV2 ...       3     47\n",
      "23  UnitTest 2P Valid Test - P1: ComputerPlayerV2 ...       2    345\n",
      "24  UnitTest 2P Valid Test - P1: ComputerPlayerV2 ...       3    355\n",
      "25  UnitTest 2P Valid Test - P1: ComputerPlayerV2 ...       3    700\n",
      "26  UnitTest 2P Valid Test - P1: ComputerPlayerV3 ...       3    700\n",
      "27  UnitTest 2P Valid Test - P1: ComputerPlayerV3 ...       3    700\n",
      "28                         Web Api - ComputerPlayerV3       1     10\n",
      "29                         Web Api - ComputerPlayerV3       3      9\n",
      "RangeIndex(start=0, stop=30, step=1)\n",
      "Index(['Description', 'Status', 'Count'], dtype='object')\n",
      "(30, 3)\n",
      "\n",
      "['UnitTest 1P Invalid Test - ComputerPlayerV1', 'UnitTest 1P Invalid Test - ComputerPlayerV2', 'UnitTest 1P Invalid Test - ComputerPlayerV3', 'UnitTest 1P Valid Test - ComputerPlayerV1', 'UnitTest 1P Valid Test - ComputerPlayerV2', 'UnitTest 1P Valid Test - ComputerPlayerV3', 'UnitTest 2P Valid Test - P1: ComputerPlayerV1 P2: ComputerPlayerV1', 'UnitTest 2P Valid Test - P1: ComputerPlayerV1 P2: ComputerPlayerV2', 'UnitTest 2P Valid Test - P1: ComputerPlayerV2 P2: ComputerPlayerV1', 'UnitTest 2P Valid Test - P1: ComputerPlayerV2 P2: ComputerPlayerV2', 'UnitTest 2P Valid Test - P1: ComputerPlayerV2 P2: ComputerPlayerV3', 'UnitTest 2P Valid Test - P1: ComputerPlayerV3 P2: ComputerPlayerV2', 'UnitTest 2P Valid Test - P1: ComputerPlayerV3 P2: ComputerPlayerV3', 'Web Api - ComputerPlayerV3']\n"
     ]
    }
   ],
   "source": [
    "grpGames = pd.DataFrame(dfGames.groupby(by=['Description','Status'])['InstanceId'].count())\n",
    "grpGames.reset_index(inplace=True)\n",
    "grpGames.rename(columns={\"InstanceId\": \"Count\"}, inplace=True)\n",
    "print(type(grpGames))\n",
    "print(grpGames)\n",
    "print(grpGames.index)\n",
    "print(grpGames.columns)\n",
    "print(grpGames.shape)\n",
    "#print()\n",
    "#print(grpGames[\"Status\"])\n",
    "print()\n",
    "print(list(grpGames[\"Description\"].unique()))"
   ]
  },
  {
   "cell_type": "code",
   "execution_count": 3,
   "id": "60544084",
   "metadata": {},
   "outputs": [
    {
     "name": "stdout",
     "output_type": "stream",
     "text": [
      "                                  Description  Status  Count\n",
      "5   UnitTest 1P Valid Test - ComputerPlayerV1       1   5669\n",
      "6   UnitTest 1P Valid Test - ComputerPlayerV1       2   2785\n",
      "7   UnitTest 1P Valid Test - ComputerPlayerV1       3   1246\n",
      "8   UnitTest 1P Valid Test - ComputerPlayerV2       1    791\n",
      "9   UnitTest 1P Valid Test - ComputerPlayerV2       2   6916\n",
      "10  UnitTest 1P Valid Test - ComputerPlayerV2       3   1923\n",
      "11  UnitTest 1P Valid Test - ComputerPlayerV3       1    635\n",
      "12  UnitTest 1P Valid Test - ComputerPlayerV3       2   6968\n",
      "13  UnitTest 1P Valid Test - ComputerPlayerV3       3   1897\n",
      "\n",
      "\n",
      "                                 Description  Status   Count\n",
      "0  UnitTest 1P Valid Test - ComputerPlayerV1     1.0  5669.0\n",
      "1  UnitTest 1P Valid Test - ComputerPlayerV1     2.0  2785.0\n",
      "2  UnitTest 1P Valid Test - ComputerPlayerV1     3.0  1246.0\n",
      "3  UnitTest 1P Valid Test - ComputerPlayerV2     1.0   791.0\n",
      "4  UnitTest 1P Valid Test - ComputerPlayerV2     2.0  6916.0\n",
      "5  UnitTest 1P Valid Test - ComputerPlayerV2     3.0  1923.0\n",
      "6  UnitTest 1P Valid Test - ComputerPlayerV3     1.0   635.0\n",
      "7  UnitTest 1P Valid Test - ComputerPlayerV3     2.0  6968.0\n",
      "8  UnitTest 1P Valid Test - ComputerPlayerV3     3.0  1897.0\n"
     ]
    }
   ],
   "source": [
    "gameSetups = []\n",
    "gameSetups.append('UnitTest 1P Valid Test - ComputerPlayerV1')\n",
    "gameSetups.append('UnitTest 1P Valid Test - ComputerPlayerV2')\n",
    "gameSetups.append('UnitTest 1P Valid Test - ComputerPlayerV3')\n",
    "#gameSetups.append('UnitTest 2P Valid Test - P1: ComputerPlayerV1 P2: ComputerPlayerV1')\n",
    "#gameSetups.append('UnitTest 2P Valid Test - P1: ComputerPlayerV1 P2: ComputerPlayerV2')\n",
    "#gameSetups.append('UnitTest 2P Valid Test - P1: ComputerPlayerV2 P2: ComputerPlayerV1')\n",
    "#gameSetups.append('UnitTest 2P Valid Test - P1: ComputerPlayerV2 P2: ComputerPlayerV2')\n",
    "#gameSetups.append('UnitTest 2P Valid Test - P1: ComputerPlayerV2 P2: ComputerPlayerV3')\n",
    "#gameSetups.append('UnitTest 2P Valid Test - P1: ComputerPlayerV3 P2: ComputerPlayerV2')\n",
    "#gameSetups.append('UnitTest 2P Valid Test - P1: ComputerPlayerV3 P2: ComputerPlayerV3')\n",
    "#gameSetups.append('Web Api - ComputerPlayerV3')\n",
    "\n",
    "dfGames1 = grpGames[grpGames[\"Description\"].apply(lambda d: d in gameSetups)]\n",
    "print(dfGames1)\n",
    "print()\n",
    "print()\n",
    "\n",
    "newGameSetup = []\n",
    "newStatus = []\n",
    "newCount = []\n",
    "for i in range(len(gameSetups)):\n",
    "    gameSetup = gameSetups[i]\n",
    "    for status in range(1,4):\n",
    "        dfResult = dfGames1[(dfGames1[\"Description\"].str.fullmatch(gameSetup)) & (dfGames1[\"Status\"] == status)]\n",
    "        if dfResult.shape[0] == 0:\n",
    "            print(f\"{gameSetup}:{status}:{0}\")\n",
    "            newGameSetup.append(gameSetup)\n",
    "            newStatus.append(status)\n",
    "            newCount.append(0)\n",
    "\n",
    "#print(newGameSetup)\n",
    "#print(newStatus)\n",
    "#print(newCount)\n",
    "\n",
    "newRows = pd.DataFrame(data={\"Description\": newGameSetup, \"Status\": newStatus, \"Count\": newCount}, index=range(len(newGameSetup)))\n",
    "#print(newRows)\n",
    "dfGames1 = pd.concat([dfGames1, newRows])\n",
    "dfGames1.sort_values(by=[\"Description\",\"Status\"], inplace=True)\n",
    "dfGames1.reset_index(drop=True,inplace=True)\n",
    "print(dfGames1)"
   ]
  },
  {
   "cell_type": "code",
   "execution_count": 4,
   "id": "10c6e979",
   "metadata": {},
   "outputs": [],
   "source": [
    "import matplotlib.pyplot as plt\n",
    "\n",
    "xpos = [1,2,3]\n",
    "for i in range(len(gameSetups)):\n",
    "    gameSetup = gameSetups[i]\n",
    "    dfColumnChart = dfGames1[dfGames1[\"Description\"].str.fullmatch(gameSetup)]\n",
    "    #print(dfColumnChart)\n",
    "    count = dfColumnChart[\"Count\"].values\n",
    "    countList = [count[0],count[2],count[1]]\n",
    "    plt.bar(x=xpos,height=countList)\n",
    "    plt.xticks(ticks=xpos,labels=[\"Player1\",\"Draw\",\"Player2\"])\n",
    "    plt.title(gameSetup)\n",
    "    plt.savefig('TicTacToeGameOutcomeByGameSetup' + gameSetup.replace(' ','_').replace('UnitTest_','') + '20230509.png')\n",
    "    plt.close()\n",
    "    #plt.show()\n"
   ]
  },
  {
   "cell_type": "code",
   "execution_count": 5,
   "id": "9584464b",
   "metadata": {},
   "outputs": [
    {
     "name": "stdout",
     "output_type": "stream",
     "text": [
      "([3274, 2679, 3509, 2965, 4498, 3015, 3728, 3087, 3581], [2851, 3219, 2603, 2706, 1856, 2702, 2322, 2560, 2422], [970, 1197, 983, 1424, 741, 1378, 1045, 1448, 1092])\n"
     ]
    }
   ],
   "source": [
    "def SumPlayerMoves(dfPlayerWinDataMaxMoves, dfPlayerWinData):\n",
    "\n",
    "    emptyCells = [0 for i in range(9)]\n",
    "    p1Cells = [0 for i in range(9)]\n",
    "    p2Cells = [0 for i in range(9)]\n",
    "    \n",
    "    for i in range(dfPlayerWinDataMaxMoves.shape[0]):\n",
    "        row = dfPlayerWinDataMaxMoves.iloc[i]\n",
    "        InstanceId = row[\"InstanceId\"]\n",
    "        MoveNumber = row[\"MoveNumber\"]\n",
    "        latestMove = dfPlayerWinData[(dfPlayerWinData[\"InstanceId\"].apply(lambda id: id == InstanceId)) & (dfPlayerWinData[\"MoveNumber\"].apply(lambda m: m == MoveNumber))]\n",
    "        #print(latestMove)\n",
    "        for c in range(latestMove.shape[0]):\n",
    "            move = latestMove.iloc[c]\n",
    "            ci = move[\"CellIndex\"]\n",
    "            cc = move[\"CellContent\"]\n",
    "            if cc==0:\n",
    "                emptyCells[ci] += 1\n",
    "            elif cc==1:\n",
    "                p1Cells[ci] += 1\n",
    "            elif cc==2:\n",
    "                p2Cells[ci] += 1\n",
    "    return (p1Cells, p2Cells, emptyCells)\n",
    "\n",
    "dfWinGames = dfGames[dfGames[\"Description\"].isin(gameSetups)]\n",
    "\n",
    "dfP1WinGames = dfWinGames[dfWinGames[\"Status\"] == 1]\n",
    "gamesP1Won = dfP1WinGames[\"InstanceId\"].unique().tolist()\n",
    "dfP1WinData = dfData[dfData[\"InstanceId\"].isin(gamesP1Won)]\n",
    "dfP1WinDataMaxMoves = dfP1WinData.groupby(by=\"InstanceId\").max()\n",
    "dfP1WinDataMaxMoves.reset_index(inplace=True)\n",
    "\n",
    "p1Results = SumPlayerMoves(dfP1WinDataMaxMoves, dfP1WinData)\n",
    "print(p1Results)\n"
   ]
  },
  {
   "cell_type": "code",
   "execution_count": 6,
   "id": "9074e2ef",
   "metadata": {},
   "outputs": [
    {
     "name": "stdout",
     "output_type": "stream",
     "text": [
      "30336\n",
      "[10.79245781  8.83109177 11.56711498  9.77386603 14.82726793  9.93868671\n",
      " 12.28902954 10.17602848 11.80445675]\n"
     ]
    }
   ],
   "source": [
    "player1Moves = np.array(p1Results[0])\n",
    "totalPlayer1Moves = player1Moves.sum()\n",
    "print(totalPlayer1Moves)\n",
    "player1MovesPercentages = (player1Moves * 100)/totalPlayer1Moves\n",
    "print(player1MovesPercentages)"
   ]
  },
  {
   "cell_type": "code",
   "execution_count": 7,
   "id": "959233f4",
   "metadata": {},
   "outputs": [
    {
     "name": "stdout",
     "output_type": "stream",
     "text": [
      "([3168, 4893, 5201, 7560, 5920, 8141, 6756, 8400, 7019], [12544, 9064, 9419, 3747, 6856, 2346, 5244, 2813, 5025], [957, 2712, 2049, 5362, 3893, 6182, 4669, 5456, 4625])\n"
     ]
    }
   ],
   "source": [
    "dfP2WinGames = dfWinGames[dfWinGames[\"Status\"] == 2]\n",
    "gamesP2Won = dfP2WinGames[\"InstanceId\"].unique().tolist()\n",
    "dfP2WinData = dfData[dfData[\"InstanceId\"].isin(gamesP2Won)]\n",
    "dfP2WinDataMaxMoves = dfP2WinData.groupby(by=\"InstanceId\").max()\n",
    "dfP2WinDataMaxMoves.reset_index(inplace=True)\n",
    "\n",
    "p2Results = SumPlayerMoves(dfP2WinDataMaxMoves, dfP2WinData)\n",
    "print(p2Results)\n"
   ]
  },
  {
   "cell_type": "code",
   "execution_count": 8,
   "id": "6e3882cb",
   "metadata": {},
   "outputs": [
    {
     "name": "stdout",
     "output_type": "stream",
     "text": [
      "57058\n",
      "[21.9846472  15.8855901  16.50776403  6.567002   12.01584353  4.11160573\n",
      "  9.19064811  4.93007116  8.80682814]\n"
     ]
    }
   ],
   "source": [
    "player2Moves = np.array(p2Results[1])\n",
    "totalPlayer2Moves = player2Moves.sum()\n",
    "print(totalPlayer2Moves)\n",
    "player2MovesPercentages = (player2Moves * 100)/totalPlayer2Moves\n",
    "print(player2MovesPercentages)"
   ]
  },
  {
   "cell_type": "code",
   "execution_count": 9,
   "id": "00e775a8",
   "metadata": {},
   "outputs": [
    {
     "name": "stdout",
     "output_type": "stream",
     "text": [
      "[[10.792457805907173, 8.831091772151899, 11.567114978902953], [9.773866033755274, 14.827267932489452, 9.938686708860759], [12.289029535864978, 10.176028481012658, 11.804456751054852]]\n",
      "10.79\n",
      "9.77\n",
      "12.29\n",
      "8.83\n",
      "14.83\n",
      "10.18\n",
      "11.57\n",
      "9.94\n",
      "11.8\n",
      "[[21.984647201093622, 15.885590101300432, 16.50776402958393], [6.567001997966981, 12.015843527638543, 4.111605734515756], [9.190648112446985, 4.930071155666164, 8.806828139787585]]\n",
      "21.98\n",
      "6.57\n",
      "9.19\n",
      "15.89\n",
      "12.02\n",
      "4.93\n",
      "16.51\n",
      "4.11\n",
      "8.81\n",
      "[[16.3885525035004, 12.358340936726165, 14.037439504243443], [8.170434015861128, 13.421555730063996, 7.025146221688257], [10.739838824155981, 7.553049818339411, 10.305642445421219]]\n",
      "16.39\n",
      "8.17\n",
      "10.74\n",
      "12.36\n",
      "13.42\n",
      "7.55\n",
      "14.04\n",
      "7.03\n",
      "10.31\n"
     ]
    }
   ],
   "source": [
    "def annotatedHeatMap(data1d, title):\n",
    "    \n",
    "    data2d = []\n",
    "    for i in range(3):\n",
    "        r = i*3\n",
    "        data2d.append(list(data1d[r:r+3]))\n",
    "        \n",
    "    print(data2d)\n",
    "\n",
    "    fig, ax = plt.subplots()\n",
    "    \n",
    "    # Plot the heatmap\n",
    "    im = ax.imshow(data2d,cmap=\"copper\")\n",
    "    #cbar = ax.figure.colorbar(im, ax=ax, **cbar_kw)\n",
    "    cbar = ax.figure.colorbar(im, ax=ax)\n",
    "    \n",
    "    xticks = [i-1 for i in range(1,4)]\n",
    "    yticks = [i-1 for i in range(1,4)]\n",
    "    xlabels = [i for i in range(1,4)]\n",
    "    ylabels = [i for i in range(1,4)]\n",
    "    ax.set_xticks(xticks, labels=xlabels, fontsize=\"14\")\n",
    "    ax.set_yticks(yticks, labels=ylabels, fontsize=\"14\")\n",
    "    ax.set_ylabel(\"Row\", fontsize=\"14\")\n",
    "    ax.set_xlabel(\"Column\", fontsize=\"14\")\n",
    "    #ax.set_title(title, fontsize=\"20\")\n",
    "    \n",
    "    # Loop over data dimensions and create text annotations.\n",
    "    for r in range(3):\n",
    "        for c in range(3):\n",
    "            val = round(data2d[c][r],2)\n",
    "            print(val)\n",
    "            txt = ax.text(r, c, f'{val:0.2f}', ha=\"center\", va=\"center\", color=\"w\", fontsize=\"x-large\", fontweight=\"bold\")\n",
    "    \n",
    "    plt.savefig(title.replace(' ', '_').replace(':','') + '20230509.png')\n",
    "    plt.close()\n",
    "    \n",
    "annotatedHeatMap(player1MovesPercentages, \"P1 Wins: Cells occupancy by percentage\")\n",
    "annotatedHeatMap(player2MovesPercentages, \"P2 Wins: Cells occupancy by percentage\")\n",
    "\n",
    "winningPlayerMovesPercentages = (player1MovesPercentages + player2MovesPercentages) / 2\n",
    "annotatedHeatMap(winningPlayerMovesPercentages, \"Winner: Cells occupancy by percentage\")"
   ]
  }
 ],
 "metadata": {
  "kernelspec": {
   "display_name": "pycaret_full",
   "language": "python",
   "name": "pycaret_full"
  },
  "language_info": {
   "codemirror_mode": {
    "name": "ipython",
    "version": 3
   },
   "file_extension": ".py",
   "mimetype": "text/x-python",
   "name": "python",
   "nbconvert_exporter": "python",
   "pygments_lexer": "ipython3",
   "version": "3.8.12"
  }
 },
 "nbformat": 4,
 "nbformat_minor": 5
}
