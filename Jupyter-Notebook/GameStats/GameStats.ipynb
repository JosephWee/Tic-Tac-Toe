{
 "cells": [
  {
   "cell_type": "code",
   "execution_count": 3,
   "id": "30d4530b",
   "metadata": {},
   "outputs": [
    {
     "name": "stdout",
     "output_type": "stream",
     "text": [
      "           InstanceId                                Description  GridSize  \\\n",
      "0  638192371131592725  UnitTest 1P Valid Test - ComputerPlayerV1         3   \n",
      "1  638187012721617392  UnitTest 1P Valid Test - ComputerPlayerV1         3   \n",
      "2  638192371131592726  UnitTest 1P Valid Test - ComputerPlayerV1         3   \n",
      "3  638192371131592727  UnitTest 1P Valid Test - ComputerPlayerV1         3   \n",
      "4  638187012721617360  UnitTest 1P Valid Test - ComputerPlayerV1         3   \n",
      "\n",
      "   Status                    CreatedDate                  CompletedDate  \n",
      "0       1  2023-05-09 21:51:54.600909+08  2023-05-09 21:51:55.822315+08  \n",
      "1       1  2023-05-03 17:01:19.398628+08  2023-05-03 17:01:19.554476+08  \n",
      "2       1  2023-05-09 21:51:56.089313+08  2023-05-09 21:51:56.842221+08  \n",
      "3       1  2023-05-09 21:51:57.097123+08   2023-05-09 21:51:57.84777+08  \n",
      "4       1  2023-05-03 17:01:12.164396+08   2023-05-03 17:01:12.27824+08  \n",
      "    Id                    CreatedDate          InstanceId  MoveNumber  \\\n",
      "0  280  2023-05-03 17:01:12.164441+08  638187012721617360           1   \n",
      "1  281  2023-05-03 17:01:12.164441+08  638187012721617360           1   \n",
      "2  282  2023-05-03 17:01:12.164441+08  638187012721617360           1   \n",
      "3  283  2023-05-03 17:01:12.164441+08  638187012721617360           1   \n",
      "4  284  2023-05-03 17:01:12.164442+08  638187012721617360           1   \n",
      "\n",
      "   CellIndex  CellContent  \n",
      "0          0            0  \n",
      "1          1            0  \n",
      "2          2            0  \n",
      "3          3            1  \n",
      "4          4            0  \n"
     ]
    }
   ],
   "source": [
    "import numpy as np\n",
    "import pandas as pd\n",
    "\n",
    "dfGames = pd.read_csv('TicTacToeGames-2023-05-09-2331.csv')\n",
    "dfData = pd.read_csv('TicTacToeData-2023-05-09-2331.csv')\n",
    "\n",
    "print(dfGames.head())\n",
    "print(dfData.head())"
   ]
  },
  {
   "cell_type": "code",
   "execution_count": 4,
   "id": "15db147a",
   "metadata": {},
   "outputs": [
    {
     "name": "stdout",
     "output_type": "stream",
     "text": [
      "<class 'pandas.core.frame.DataFrame'>\n",
      "                                 Description  Status  Count\n",
      "0  UnitTest 1P Valid Test - ComputerPlayerV1       1  21361\n",
      "1  UnitTest 1P Valid Test - ComputerPlayerV1       2  10439\n",
      "2  UnitTest 1P Valid Test - ComputerPlayerV1       3   4753\n",
      "RangeIndex(start=0, stop=3, step=1)\n",
      "Index(['Description', 'Status', 'Count'], dtype='object')\n",
      "(3, 3)\n",
      "\n",
      "['UnitTest 1P Valid Test - ComputerPlayerV1']\n"
     ]
    }
   ],
   "source": [
    "grpGames = pd.DataFrame(dfGames.groupby(by=['Description','Status'])['InstanceId'].count())\n",
    "grpGames.reset_index(inplace=True)\n",
    "grpGames.rename(columns={\"InstanceId\": \"Count\"}, inplace=True)\n",
    "print(type(grpGames))\n",
    "print(grpGames)\n",
    "print(grpGames.index)\n",
    "print(grpGames.columns)\n",
    "print(grpGames.shape)\n",
    "#print()\n",
    "#print(grpGames[\"Status\"])\n",
    "print()\n",
    "print(list(grpGames[\"Description\"].unique()))"
   ]
  },
  {
   "cell_type": "code",
   "execution_count": 5,
   "id": "60544084",
   "metadata": {},
   "outputs": [
    {
     "name": "stdout",
     "output_type": "stream",
     "text": [
      "                                 Description  Status  Count\n",
      "0  UnitTest 1P Valid Test - ComputerPlayerV1       1  21361\n",
      "1  UnitTest 1P Valid Test - ComputerPlayerV1       2  10439\n",
      "2  UnitTest 1P Valid Test - ComputerPlayerV1       3   4753\n",
      "\n",
      "\n",
      "UnitTest 1P Valid Test - ComputerPlayerV2:1:0\n",
      "UnitTest 1P Valid Test - ComputerPlayerV2:2:0\n",
      "UnitTest 1P Valid Test - ComputerPlayerV2:3:0\n",
      "UnitTest 1P Valid Test - ComputerPlayerV3:1:0\n",
      "UnitTest 1P Valid Test - ComputerPlayerV3:2:0\n",
      "UnitTest 1P Valid Test - ComputerPlayerV3:3:0\n",
      "                                 Description  Status  Count\n",
      "0  UnitTest 1P Valid Test - ComputerPlayerV1       1  21361\n",
      "1  UnitTest 1P Valid Test - ComputerPlayerV1       2  10439\n",
      "2  UnitTest 1P Valid Test - ComputerPlayerV1       3   4753\n",
      "3  UnitTest 1P Valid Test - ComputerPlayerV2       1      0\n",
      "4  UnitTest 1P Valid Test - ComputerPlayerV2       2      0\n",
      "5  UnitTest 1P Valid Test - ComputerPlayerV2       3      0\n",
      "6  UnitTest 1P Valid Test - ComputerPlayerV3       1      0\n",
      "7  UnitTest 1P Valid Test - ComputerPlayerV3       2      0\n",
      "8  UnitTest 1P Valid Test - ComputerPlayerV3       3      0\n"
     ]
    }
   ],
   "source": [
    "gameSetups = []\n",
    "gameSetups.append('UnitTest 1P Valid Test - ComputerPlayerV1')\n",
    "gameSetups.append('UnitTest 1P Valid Test - ComputerPlayerV2')\n",
    "gameSetups.append('UnitTest 1P Valid Test - ComputerPlayerV3')\n",
    "#gameSetups.append('UnitTest 2P Valid Test - P1: ComputerPlayerV1 P2: ComputerPlayerV1')\n",
    "#gameSetups.append('UnitTest 2P Valid Test - P1: ComputerPlayerV1 P2: ComputerPlayerV2')\n",
    "#gameSetups.append('UnitTest 2P Valid Test - P1: ComputerPlayerV2 P2: ComputerPlayerV1')\n",
    "#gameSetups.append('UnitTest 2P Valid Test - P1: ComputerPlayerV2 P2: ComputerPlayerV2')\n",
    "#gameSetups.append('UnitTest 2P Valid Test - P1: ComputerPlayerV2 P2: ComputerPlayerV3')\n",
    "#gameSetups.append('UnitTest 2P Valid Test - P1: ComputerPlayerV3 P2: ComputerPlayerV2')\n",
    "#gameSetups.append('UnitTest 2P Valid Test - P1: ComputerPlayerV3 P2: ComputerPlayerV3')\n",
    "#gameSetups.append('Web Api - ComputerPlayerV3')\n",
    "\n",
    "dfGames1 = grpGames[grpGames[\"Description\"].apply(lambda d: d in gameSetups)]\n",
    "print(dfGames1)\n",
    "print()\n",
    "print()\n",
    "\n",
    "newGameSetup = []\n",
    "newStatus = []\n",
    "newCount = []\n",
    "for i in range(len(gameSetups)):\n",
    "    gameSetup = gameSetups[i]\n",
    "    for status in range(1,4):\n",
    "        dfResult = dfGames1[(dfGames1[\"Description\"].str.fullmatch(gameSetup)) & (dfGames1[\"Status\"] == status)]\n",
    "        if dfResult.shape[0] == 0:\n",
    "            print(f\"{gameSetup}:{status}:{0}\")\n",
    "            newGameSetup.append(gameSetup)\n",
    "            newStatus.append(status)\n",
    "            newCount.append(0)\n",
    "\n",
    "#print(newGameSetup)\n",
    "#print(newStatus)\n",
    "#print(newCount)\n",
    "\n",
    "newRows = pd.DataFrame(data={\"Description\": newGameSetup, \"Status\": newStatus, \"Count\": newCount}, index=range(len(newGameSetup)))\n",
    "#print(newRows)\n",
    "dfGames1 = pd.concat([dfGames1, newRows])\n",
    "dfGames1.sort_values(by=[\"Description\",\"Status\"], inplace=True)\n",
    "dfGames1.reset_index(drop=True,inplace=True)\n",
    "print(dfGames1)"
   ]
  },
  {
   "cell_type": "code",
   "execution_count": 6,
   "id": "10c6e979",
   "metadata": {},
   "outputs": [],
   "source": [
    "import matplotlib.pyplot as plt\n",
    "\n",
    "xpos = [1,2,3]\n",
    "for i in range(len(gameSetups)):\n",
    "    gameSetup = gameSetups[i]\n",
    "    dfColumnChart = dfGames1[dfGames1[\"Description\"].str.fullmatch(gameSetup)]\n",
    "    #print(dfColumnChart)\n",
    "    count = dfColumnChart[\"Count\"].values\n",
    "    countList = [count[0],count[2],count[1]]\n",
    "    plt.bar(x=xpos,height=countList)\n",
    "    plt.xticks(ticks=xpos,labels=[\"Player1\",\"Draw\",\"Player2\"])\n",
    "    plt.title(gameSetup)\n",
    "    plt.savefig('TicTacToeGameOutcomeByGameSetup' + gameSetup.replace(' ','_').replace('UnitTest_','') + '20230509.png')\n",
    "    plt.close()\n",
    "    #plt.show()\n"
   ]
  },
  {
   "cell_type": "code",
   "execution_count": 7,
   "id": "9584464b",
   "metadata": {},
   "outputs": [
    {
     "name": "stdout",
     "output_type": "stream",
     "text": [
      "([10488, 8903, 10499, 8753, 12685, 8690, 10683, 8869, 10564], [7408, 8392, 7363, 8356, 5977, 8392, 7229, 8323, 7333], [3465, 4066, 3499, 4252, 2699, 4279, 3449, 4169, 3464])\n"
     ]
    }
   ],
   "source": [
    "def SumPlayerMoves(dfPlayerWinDataMaxMoves, dfPlayerWinData):\n",
    "\n",
    "    emptyCells = [0 for i in range(9)]\n",
    "    p1Cells = [0 for i in range(9)]\n",
    "    p2Cells = [0 for i in range(9)]\n",
    "    \n",
    "    for i in range(dfPlayerWinDataMaxMoves.shape[0]):\n",
    "        row = dfPlayerWinDataMaxMoves.iloc[i]\n",
    "        InstanceId = row[\"InstanceId\"]\n",
    "        MoveNumber = row[\"MoveNumber\"]\n",
    "        latestMove = dfPlayerWinData[(dfPlayerWinData[\"InstanceId\"].apply(lambda id: id == InstanceId)) & (dfPlayerWinData[\"MoveNumber\"].apply(lambda m: m == MoveNumber))]\n",
    "        #print(latestMove)\n",
    "        for c in range(latestMove.shape[0]):\n",
    "            move = latestMove.iloc[c]\n",
    "            ci = move[\"CellIndex\"]\n",
    "            cc = move[\"CellContent\"]\n",
    "            if cc==0:\n",
    "                emptyCells[ci] += 1\n",
    "            elif cc==1:\n",
    "                p1Cells[ci] += 1\n",
    "            elif cc==2:\n",
    "                p2Cells[ci] += 1\n",
    "    return (p1Cells, p2Cells, emptyCells)\n",
    "\n",
    "dfWinGames = dfGames[dfGames[\"Description\"].isin(gameSetups)]\n",
    "\n",
    "dfP1WinGames = dfWinGames[dfWinGames[\"Status\"] == 1]\n",
    "gamesP1Won = dfP1WinGames[\"InstanceId\"].unique().tolist()\n",
    "dfP1WinData = dfData[dfData[\"InstanceId\"].isin(gamesP1Won)]\n",
    "dfP1WinDataMaxMoves = dfP1WinData.groupby(by=\"InstanceId\").max()\n",
    "dfP1WinDataMaxMoves.reset_index(inplace=True)\n",
    "\n",
    "p1Results = SumPlayerMoves(dfP1WinDataMaxMoves, dfP1WinData)\n",
    "print(p1Results)\n"
   ]
  },
  {
   "cell_type": "code",
   "execution_count": 8,
   "id": "9074e2ef",
   "metadata": {},
   "outputs": [
    {
     "name": "stdout",
     "output_type": "stream",
     "text": [
      "90134\n",
      "[11.63600861  9.8775157  11.64821266  9.71109681 14.07349058  9.64120088\n",
      " 11.85235316  9.83979408 11.72032751]\n"
     ]
    }
   ],
   "source": [
    "player1Moves = np.array(p1Results[0])\n",
    "totalPlayer1Moves = player1Moves.sum()\n",
    "print(totalPlayer1Moves)\n",
    "player1MovesPercentages = (player1Moves * 100)/totalPlayer1Moves\n",
    "print(player1MovesPercentages)"
   ]
  },
  {
   "cell_type": "code",
   "execution_count": 9,
   "id": "959233f4",
   "metadata": {},
   "outputs": [
    {
     "name": "stdout",
     "output_type": "stream",
     "text": [
      "([3933, 4991, 3973, 5056, 2847, 5077, 3851, 4958, 3869], [4748, 3303, 4819, 3262, 6273, 3227, 4807, 3350, 4766], [1758, 2145, 1647, 2121, 1319, 2135, 1781, 2131, 1804])\n"
     ]
    }
   ],
   "source": [
    "dfP2WinGames = dfWinGames[dfWinGames[\"Status\"] == 2]\n",
    "gamesP2Won = dfP2WinGames[\"InstanceId\"].unique().tolist()\n",
    "dfP2WinData = dfData[dfData[\"InstanceId\"].isin(gamesP2Won)]\n",
    "dfP2WinDataMaxMoves = dfP2WinData.groupby(by=\"InstanceId\").max()\n",
    "dfP2WinDataMaxMoves.reset_index(inplace=True)\n",
    "\n",
    "p2Results = SumPlayerMoves(dfP2WinDataMaxMoves, dfP2WinData)\n",
    "print(p2Results)\n"
   ]
  },
  {
   "cell_type": "code",
   "execution_count": 10,
   "id": "6e3882cb",
   "metadata": {},
   "outputs": [
    {
     "name": "stdout",
     "output_type": "stream",
     "text": [
      "38555\n",
      "[12.31487485  8.56698223 12.49902736  8.46064064 16.27026326  8.36986124\n",
      " 12.467903    8.68888601 12.36156141]\n"
     ]
    }
   ],
   "source": [
    "player2Moves = np.array(p2Results[1])\n",
    "totalPlayer2Moves = player2Moves.sum()\n",
    "print(totalPlayer2Moves)\n",
    "player2MovesPercentages = (player2Moves * 100)/totalPlayer2Moves\n",
    "print(player2MovesPercentages)"
   ]
  },
  {
   "cell_type": "code",
   "execution_count": 11,
   "id": "00e775a8",
   "metadata": {},
   "outputs": [
    {
     "name": "stdout",
     "output_type": "stream",
     "text": [
      "[[11.636008609403776, 9.87751569884838, 11.648212661148955], [9.711096811414118, 14.07349058069097, 9.641200878691725], [11.85235316306832, 9.839794084363282, 11.72032751237047]]\n",
      "11.64\n",
      "9.71\n",
      "11.85\n",
      "9.88\n",
      "14.07\n",
      "9.84\n",
      "11.65\n",
      "9.64\n",
      "11.72\n",
      "[[12.314874854104525, 8.56698223317339, 12.499027363506679], [8.460640643236934, 16.270263260277524, 8.36986123719362], [12.467902995720399, 8.688886007002983, 12.361561405783945]]\n",
      "12.31\n",
      "8.46\n",
      "12.47\n",
      "8.57\n",
      "16.27\n",
      "8.69\n",
      "12.5\n",
      "8.37\n",
      "12.36\n",
      "[[11.97544173175415, 9.222248966010884, 12.073620012327817], [9.085868727325526, 15.171876920484248, 9.005531057942672], [12.16012807939436, 9.264340045683133, 12.040944459077208]]\n",
      "11.98\n",
      "9.09\n",
      "12.16\n",
      "9.22\n",
      "15.17\n",
      "9.26\n",
      "12.07\n",
      "9.01\n",
      "12.04\n"
     ]
    }
   ],
   "source": [
    "def annotatedHeatMap(data1d, title):\n",
    "    \n",
    "    data2d = []\n",
    "    for i in range(3):\n",
    "        r = i*3\n",
    "        data2d.append(list(data1d[r:r+3]))\n",
    "        \n",
    "    print(data2d)\n",
    "\n",
    "    fig, ax = plt.subplots()\n",
    "    \n",
    "    # Plot the heatmap\n",
    "    im = ax.imshow(data2d,cmap=\"copper\")\n",
    "    #cbar = ax.figure.colorbar(im, ax=ax, **cbar_kw)\n",
    "    cbar = ax.figure.colorbar(im, ax=ax)\n",
    "    \n",
    "    xticks = [i-1 for i in range(1,4)]\n",
    "    yticks = [i-1 for i in range(1,4)]\n",
    "    xlabels = [i for i in range(1,4)]\n",
    "    ylabels = [i for i in range(1,4)]\n",
    "    ax.set_xticks(xticks, labels=xlabels, fontsize=\"14\")\n",
    "    ax.set_yticks(yticks, labels=ylabels, fontsize=\"14\")\n",
    "    ax.set_ylabel(\"Row\", fontsize=\"14\")\n",
    "    ax.set_xlabel(\"Column\", fontsize=\"14\")\n",
    "    #ax.set_title(title, fontsize=\"20\")\n",
    "    \n",
    "    # Loop over data dimensions and create text annotations.\n",
    "    for r in range(3):\n",
    "        for c in range(3):\n",
    "            val = round(data2d[c][r],2)\n",
    "            print(val)\n",
    "            txt = ax.text(r, c, f'{val:0.2f}', ha=\"center\", va=\"center\", color=\"w\", fontsize=\"x-large\", fontweight=\"bold\")\n",
    "    \n",
    "    plt.savefig(title.replace(' ', '_').replace(':','') + '20230509.png')\n",
    "    plt.close()\n",
    "    \n",
    "annotatedHeatMap(player1MovesPercentages, \"P1 Wins: Cells occupancy by percentage\")\n",
    "annotatedHeatMap(player2MovesPercentages, \"P2 Wins: Cells occupancy by percentage\")\n",
    "\n",
    "winningPlayerMovesPercentages = (player1MovesPercentages + player2MovesPercentages) / 2\n",
    "annotatedHeatMap(winningPlayerMovesPercentages, \"Winner: Cells occupancy by percentage\")"
   ]
  },
  {
   "cell_type": "code",
   "execution_count": null,
   "id": "6823743d",
   "metadata": {},
   "outputs": [],
   "source": []
  }
 ],
 "metadata": {
  "kernelspec": {
   "display_name": "pycaret_full",
   "language": "python",
   "name": "pycaret_full"
  },
  "language_info": {
   "codemirror_mode": {
    "name": "ipython",
    "version": 3
   },
   "file_extension": ".py",
   "mimetype": "text/x-python",
   "name": "python",
   "nbconvert_exporter": "python",
   "pygments_lexer": "ipython3",
   "version": "3.8.12"
  }
 },
 "nbformat": 4,
 "nbformat_minor": 5
}
